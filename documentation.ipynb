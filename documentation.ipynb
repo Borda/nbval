{
 "metadata": {
  "name": "",
  "signature": "sha256:0372ec2c85e77065ff5b4aab056a6a806c73eaeb6cd86160f54087f50fd1f423"
 },
 "nbformat": 3,
 "nbformat_minor": 0,
 "worksheets": [
  {
   "cells": [
    {
     "cell_type": "heading",
     "level": 1,
     "metadata": {},
     "source": [
      "IPython Notebook Validation for py.test - Documentation"
     ]
    },
    {
     "cell_type": "markdown",
     "metadata": {},
     "source": [
      "One of the powerful uses of the IPython notebook is for documentation purposes, here we use a notebook to demonstrate the behaviour and usage of the IPython Notebook Validation plugin for py.test. The IPython notebook format `.ipynb` stores outputs as well as inputs. Validating the notebook means to rerun the notebook and make sure that it is generating the same output as has been stored.\n",
      "\n",
      "Therefore, the **user MUST make the follwing the distinction**:\n",
      "\n",
      "1. Running a notebook manually will likely change the output stored in the associated .ipynb file. These outputs will be used as references for the tests (i.e. the outputs from the last time you ran the notebook)\n",
      "2. Validating with py.test plugin - these tests run your notebook code seperately without storing the information, the outputs generated will be compared against those in the .ipynb file\n",
      "\n",
      "The purpose of the testing module is to ensure that the notebook is behaving as expected and that changes to underlying source code, haven't affected the results of an IPython notebook. For example, for documentation purposes - such as this."
     ]
    },
    {
     "cell_type": "heading",
     "level": 3,
     "metadata": {},
     "source": [
      "Command line usage"
     ]
    },
    {
     "cell_type": "markdown",
     "metadata": {},
     "source": [
      "The py.test program doesn't usually collect notebooks for testing; by passing the `--ipynb` flag at the command line, the IPython Notebook Validation plugin will collect at test notebook cells.\n",
      "```\n",
      "$ py.test --ipynb my_notebook.ipynb\n",
      "```"
     ]
    },
    {
     "cell_type": "heading",
     "level": 3,
     "metadata": {},
     "source": [
      "REGEX Output sanitizing"
     ]
    },
    {
     "cell_type": "markdown",
     "metadata": {},
     "source": [
      "Since all output is captured by the IPython notebook, some pesky messages and prompts (with time-stamped messages, for example) may fail tests always, which might be expected. The plugin allows the user to specify a sanitizing file at the command prompt using the following flag:\n",
      "```\n",
      "$ py.test --ipynb my_notebook.ipynb --sanitize_file my_sanitize\n",
      "```\n",
      "\n",
      "This sanitize file contains a number of REGEX replacements. It is recommended, when removing output for the tests, that you replace the removed output with some sort of marker, this helps with debugging. The following file is written to the folder of this notebook and can be used to santize its outputs:"
     ]
    },
    {
     "cell_type": "code",
     "collapsed": false,
     "input": [
      "%%writefile doc_sanitize\n",
      "[regex1]\n",
      "regex: \\d{1,2}/\\d{1,2}/\\d{2,4}\n",
      "replace: DATE-STAMP\n",
      "\n",
      "[regex2]\n",
      "regex: \\d{2}:\\d{2}:\\d{2}\n",
      "replace: TIME-STAMP"
     ],
     "language": "python",
     "metadata": {},
     "outputs": [
      {
       "output_type": "stream",
       "stream": "stdout",
       "text": [
        "Overwriting doc_sanitize\n"
       ]
      }
     ],
     "prompt_number": 1
    },
    {
     "cell_type": "markdown",
     "metadata": {},
     "source": [
      "The first replacement finds dates in the given format replaces them with the label 'DATE-STAMP', likewise for strings that look like time. These will prevent the tests from failing due to time differences."
     ]
    },
    {
     "cell_type": "heading",
     "level": 3,
     "metadata": {},
     "source": [
      "Validate this notebook"
     ]
    },
    {
     "cell_type": "markdown",
     "metadata": {},
     "source": [
      "You can validate this notebook yourself, as shown below; the outputs that you see here are stored in the ipynb file. If your system produces different outputs, the testing process will fail. Just use the following commands:\n",
      "```\n",
      "$ cd /path/to/this/notebook\n",
      "$ py.test --ipynb finmag_nb_test --sanitize_file doc_sanitize\n",
      "```"
     ]
    },
    {
     "cell_type": "heading",
     "level": 3,
     "metadata": {},
     "source": [
      "Examples of plugin behaviour"
     ]
    },
    {
     "cell_type": "markdown",
     "metadata": {},
     "source": [
      "The following examples demonstrate how the plugin behaves during testing. Test this notebook yourself to see the validation in action!"
     ]
    },
    {
     "cell_type": "markdown",
     "metadata": {},
     "source": [
      "These two imports produce no output as standard, if any **warnings** are printed out the cell will fail. Under normal operating conditions they will pass."
     ]
    },
    {
     "cell_type": "code",
     "collapsed": false,
     "input": [
      "import numpy as np\n",
      "import time"
     ],
     "language": "python",
     "metadata": {},
     "outputs": [],
     "prompt_number": 2
    },
    {
     "cell_type": "markdown",
     "metadata": {},
     "source": [
      "If python doesn't consistently print 7, then something has gone terribly wrong. **Deterministic cells** are expected to pass everytime"
     ]
    },
    {
     "cell_type": "code",
     "collapsed": false,
     "input": [
      "print 5+2"
     ],
     "language": "python",
     "metadata": {},
     "outputs": [
      {
       "output_type": "stream",
       "stream": "stdout",
       "text": [
        "7\n"
       ]
      }
     ],
     "prompt_number": 3
    },
    {
     "cell_type": "markdown",
     "metadata": {},
     "source": [
      "**Random outputs** will always fail."
     ]
    },
    {
     "cell_type": "code",
     "collapsed": false,
     "input": [
      "print [np.random.rand() for i in range(4)]\n",
      "print [np.random.rand() for i in range(4)]"
     ],
     "language": "python",
     "metadata": {},
     "outputs": [
      {
       "output_type": "stream",
       "stream": "stdout",
       "text": [
        "[0.3433639969715472, 0.4113919199382219, 0.22005832488330834, 0.7783101074107016]\n",
        "[0.31716742841252765, 0.460606315726255, 0.37041459219320727, 0.3442003411605461]\n"
       ]
      }
     ],
     "prompt_number": 4
    },
    {
     "cell_type": "markdown",
     "metadata": {},
     "source": [
      "**Inconsistent number of lines** of output will cause an error to be thrown."
     ]
    },
    {
     "cell_type": "code",
     "collapsed": false,
     "input": [
      "for i in range(np.random.randint(1, 8)):\n",
      "    print 1"
     ],
     "language": "python",
     "metadata": {},
     "outputs": [
      {
       "output_type": "stream",
       "stream": "stdout",
       "text": [
        "1\n"
       ]
      }
     ],
     "prompt_number": 5
    },
    {
     "cell_type": "markdown",
     "metadata": {},
     "source": [
      "Because the **time and date** will change with each run, we would expect this cell to fail everytime. Using the sanitize file `doc_sanitize` (created above) you can clean up these outputs."
     ]
    },
    {
     "cell_type": "code",
     "collapsed": false,
     "input": [
      "print 'The time is: ' + time.strftime('%H:%M:%S')\n",
      "print \"Today's date is: \" + time.strftime('%d/%m/%y')"
     ],
     "language": "python",
     "metadata": {},
     "outputs": [
      {
       "output_type": "stream",
       "stream": "stdout",
       "text": [
        "The time is: 16:41:01\n",
        "Today's date is: 14/01/15\n"
       ]
      }
     ],
     "prompt_number": 6
    }
   ],
   "metadata": {}
  }
 ]
}